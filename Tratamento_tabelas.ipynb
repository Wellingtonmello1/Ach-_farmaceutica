{
 "cells": [
  {
   "cell_type": "markdown",
   "id": "dc2541a5",
   "metadata": {},
   "source": [
    "IMPORTANDO SPARK"
   ]
  },
  {
   "cell_type": "code",
   "execution_count": 2,
   "id": "f42069fb",
   "metadata": {},
   "outputs": [
    {
     "name": "stdout",
     "output_type": "stream",
     "text": [
      "Defaulting to user installation because normal site-packages is not writeable\n",
      "Requirement already satisfied: pyspark in /home/wells/.local/lib/python3.10/site-packages (4.0.0)\n",
      "Requirement already satisfied: py4j==0.10.9.9 in /home/wells/.local/lib/python3.10/site-packages (from pyspark) (0.10.9.9)\n",
      "Note: you may need to restart the kernel to use updated packages.\n"
     ]
    }
   ],
   "source": [
    "%pip install pyspark\n",
    "\n",
    "from pyspark.sql import SparkSession"
   ]
  },
  {
   "cell_type": "code",
   "execution_count": 3,
   "id": "baf5f603",
   "metadata": {},
   "outputs": [
    {
     "name": "stderr",
     "output_type": "stream",
     "text": [
      "WARNING: Using incubator modules: jdk.incubator.vector\n",
      "Using Spark's default log4j profile: org/apache/spark/log4j2-defaults.properties\n",
      "25/10/22 09:38:03 WARN Utils: Your hostname, 8X06064, resolves to a loopback address: 127.0.1.1; using 10.255.255.254 instead (on interface lo)\n",
      "25/10/22 09:38:03 WARN Utils: Set SPARK_LOCAL_IP if you need to bind to another address\n",
      "Using Spark's default log4j profile: org/apache/spark/log4j2-defaults.properties\n",
      "Setting default log level to \"WARN\".\n",
      "To adjust logging level use sc.setLogLevel(newLevel). For SparkR, use setLogLevel(newLevel).\n",
      "25/10/22 09:38:04 WARN NativeCodeLoader: Unable to load native-hadoop library for your platform... using builtin-java classes where applicable\n"
     ]
    }
   ],
   "source": [
    "from pyspark.sql import SparkSession\n",
    "\n",
    "# Create or get a SparkSession\n",
    "spark = SparkSession.builder \\\n",
    "    .appName(\"MySparkApp\") \\\n",
    "    .getOrCreate()"
   ]
  },
  {
   "cell_type": "code",
   "execution_count": 3,
   "id": "e600a328",
   "metadata": {},
   "outputs": [
    {
     "name": "stdout",
     "output_type": "stream",
     "text": [
      "✅ Spark ativo — versão: 4.0.0\n"
     ]
    }
   ],
   "source": [
    "from pyspark.sql import SparkSession\n",
    "\n",
    "# Garante que não há sessão antiga\n",
    "try:\n",
    "    spark.stop()\n",
    "except:\n",
    "    pass\n",
    "\n",
    "spark = SparkSession.builder \\\n",
    "    .appName(\"SparkComJava11\") \\\n",
    "    .master(\"local[*]\") \\\n",
    "    .config(\"spark.driver.memory\", \"2g\") \\\n",
    "    .getOrCreate()\n",
    "\n",
    "print(\"✅ Spark ativo — versão:\", spark.version)\n"
   ]
  },
  {
   "cell_type": "markdown",
   "id": "b704a892",
   "metadata": {},
   "source": [
    "DEFININDO TABELAS"
   ]
  },
  {
   "cell_type": "code",
   "execution_count": 5,
   "id": "0f185cb4",
   "metadata": {},
   "outputs": [
    {
     "name": "stdout",
     "output_type": "stream",
     "text": [
      "+---+--------------------+--------+--------------------+------+\n",
      "| id|        nome_cliente|    tipo|              cidade|estado|\n",
      "+---+--------------------+--------+--------------------+------+\n",
      "|  1|               Jesus|Farmácia|    Azevedo de Minas|    TO|\n",
      "|  2|       Caldeira S.A.|Hospital|     Santos de Minas|    PR|\n",
      "|  3|               Pires|Farmácia|     Pinto do Amparo|    CE|\n",
      "|  4|          Nascimento| Clínica|              da Luz|    AP|\n",
      "|  5|        Moraes Ltda.|Farmácia|            Teixeira|    SP|\n",
      "|  6|             Almeida|Hospital|               Alves|    PR|\n",
      "|  7|             Ribeiro| Clínica|     da Luz Paulista|    PE|\n",
      "|  8|        Oliveira S/A|Hospital|              Araújo|    SC|\n",
      "|  9|              Fogaça|Farmácia|        Aragão Verde|    SC|\n",
      "| 10|          da Luz S/A| Clínica|    da Rosa do Campo|    ES|\n",
      "| 11|      Rodrigues - EI|Farmácia|      Lopes de Minas|    RN|\n",
      "| 12|               Pires| Clínica|                Melo|    ES|\n",
      "| 13|Monteiro Rodrigue...| Clínica|              Vieira|    SE|\n",
      "| 14|         Jesus Ltda.| Clínica|              Santos|    RJ|\n",
      "| 15|               Moura|Hospital|       Gomes da Mata|    AM|\n",
      "| 16|               Nunes|Farmácia|Cavalcanti de da Paz|    SC|\n",
      "| 17|           Fernandes|Hospital|              da Paz|    SC|\n",
      "| 18|         Campos - EI|Hospital|      Cardoso Grande|    GO|\n",
      "| 19|              Aragão|Farmácia|      Ramos do Galho|    MA|\n",
      "| 20|              Campos|Farmácia|            Silveira|    CE|\n",
      "+---+--------------------+--------+--------------------+------+\n",
      "only showing top 20 rows\n"
     ]
    }
   ],
   "source": [
    "df_clientes = spark.read.csv(\n",
    "    \"/home/wells/Documentos/Ache Farmaceutica/Dados/BRONZE/clientes.csv\",\n",
    "    header=True,\n",
    "    inferSchema=True\n",
    ")\n",
    "df_clientes.createOrReplaceTempView(\"df_clientes\")\n",
    "df_clientes.show()"
   ]
  },
  {
   "cell_type": "code",
   "execution_count": 6,
   "id": "740711ce",
   "metadata": {},
   "outputs": [
    {
     "name": "stdout",
     "output_type": "stream",
     "text": [
      "+---+----------+----------+----------+----------------+----------+-----------+\n",
      "| id|data_venda|produto_id|cliente_id|representante_id|quantidade|valor_total|\n",
      "+---+----------+----------+----------+----------------+----------+-----------+\n",
      "|  1|03-11-2024|         5|        46|              26|        28|    8575.85|\n",
      "|  2|06-04-2025|        57|        90|              18|        39|    8980.72|\n",
      "|  3|10-05-2025|        45|        59|              13|        12|     8287.2|\n",
      "|  4|02-11-2023|        58|        35|               8|        35|    5201.28|\n",
      "|  5|11-09-2025|        10|        40|              30|        19|      958.7|\n",
      "|  6|08-06-2024|        35|        33|               6|        21|    6725.63|\n",
      "|  7|23-11-2024|         3|        30|              14|         7|    1929.33|\n",
      "|  8|13-04-2024|        54|        16|              39|         6|    1492.06|\n",
      "|  9|05-04-2025|        24|        93|               2|        21|    3303.66|\n",
      "| 10|01-06-2025|        38|        25|               4|        43|    2555.67|\n",
      "| 11|30-08-2024|        36|        41|              22|        19|    2681.77|\n",
      "| 12|01-05-2025|        10|        16|              16|        20|    2431.66|\n",
      "| 13|27-10-2024|        28|        96|               9|        29|    7562.19|\n",
      "| 14|13-02-2024|         9|        69|              37|        39|    9544.94|\n",
      "| 15|05-06-2025|         3|        98|              14|        46|    3089.26|\n",
      "| 16|23-02-2025|        20|        89|               5|        28|    7256.54|\n",
      "| 17|26-05-2025|        24|        24|              36|        11|     213.21|\n",
      "| 18|14-10-2024|        58|        25|              14|        45|    6571.47|\n",
      "| 19|07-01-2025|        60|        28|              38|        29|    6958.41|\n",
      "| 20|18-12-2024|        51|        95|              14|        23|     715.03|\n",
      "+---+----------+----------+----------+----------------+----------+-----------+\n",
      "only showing top 20 rows\n"
     ]
    }
   ],
   "source": [
    "df_vendas =  spark.read.csv(\"/home/wells/Documentos/Ache Farmaceutica/Dados/BRONZE/vendas.csv\", header=True, inferSchema=True)\n",
    "df_vendas.createOrReplaceTempView(\"df_vendas\")\n",
    "df_vendas.show()"
   ]
  },
  {
   "cell_type": "code",
   "execution_count": 7,
   "id": "564265a1",
   "metadata": {},
   "outputs": [
    {
     "name": "stdout",
     "output_type": "stream",
     "text": [
      "+---+--------------------+------------+-----------+\n",
      "| id|  nome_representante|      regiao|meta_mensal|\n",
      "+---+--------------------+------------+-----------+\n",
      "|  1|       Bruno Costela|         Sul|   89780.06|\n",
      "|  2|     Marcela Rezende|     Sudeste|  189988.91|\n",
      "|  3|    Joaquim da Costa|         Sul|  182129.63|\n",
      "|  4|      Daniel Barbosa|       Norte|  181890.54|\n",
      "|  5|    Dra. Eloah Pires|         Sul|  105429.06|\n",
      "|  6|      Eduardo Fogaça|     Sudeste|   73662.02|\n",
      "|  7|     Dr. Ian Costela|    Nordeste|  175061.74|\n",
      "|  8|       Rebeca Araújo|         Sul|  155530.99|\n",
      "|  9|        Felipe Silva|       Norte|  141751.66|\n",
      "| 10|Dr. Luiz Otávio R...|     Sudeste|  198084.96|\n",
      "| 11|         Cauã Castro|       Norte|  148096.45|\n",
      "| 12|      Brenda Cardoso|       Norte|   51173.47|\n",
      "| 13|       Leandro Jesus|         Sul|  172565.62|\n",
      "| 14|      Antônio Fogaça|       Norte|   94906.81|\n",
      "| 15|        Yasmin Lopes|         Sul|  149508.31|\n",
      "| 16|        Luiza Moraes|    Nordeste|   190839.5|\n",
      "| 17|         Evelyn Lima|       Norte|   70143.67|\n",
      "| 18| Sr. Antônio da Cruz|       Norte|    67314.3|\n",
      "| 19|      Lorenzo Fogaça|       Norte|    66055.4|\n",
      "| 20|     Calebe Caldeira|Centro-Oeste|  132983.55|\n",
      "+---+--------------------+------------+-----------+\n",
      "only showing top 20 rows\n"
     ]
    }
   ],
   "source": [
    "df_representantes = spark.read.csv(\"/home/wells/Documentos/Ache Farmaceutica/Dados/BRONZE/representantes.csv\", header=True, inferSchema=True)\n",
    "df_representantes.createOrReplaceTempView(\"df_representantes\")\n",
    "df_representantes.show()"
   ]
  },
  {
   "cell_type": "code",
   "execution_count": 8,
   "id": "ace129bd",
   "metadata": {},
   "outputs": [
    {
     "name": "stdout",
     "output_type": "stream",
     "text": [
      "+---+----------------+-----------------+--------------+-----------+\n",
      "| id|    nome_produto|        categoria|preco_unitario| fabricante|\n",
      "+---+----------------+-----------------+--------------+-----------+\n",
      "|  1| Dipirona Sódica|        Vitaminas|        110.02|     Pfizer|\n",
      "|  2|     Paracetamol|       Analgésico|         48.01|        EMS|\n",
      "|  3|      Ibuprofeno|      Antibiótico|        123.15|Neo Química|\n",
      "|  4|     Amoxicilina|Anti-inflamatório|         59.56|       Aché|\n",
      "|  5|    Azitromicina|          Vacinas|         85.72|      Bayer|\n",
      "|  6|     Cetoprofeno|        Vitaminas|        208.98|       Aché|\n",
      "|  7|       Omeprazol|        Vitaminas|        206.57|  Eurofarma|\n",
      "|  8|     Pantoprazol|          Vacinas|        228.36|        EMS|\n",
      "|  9|      Loratadina|   Dermocosmético|        155.22|     Pfizer|\n",
      "| 10|      Prednisona|          Vacinas|         34.83|      Bayer|\n",
      "| 11|      Simeticona|        Vitaminas|        155.06|Neo Química|\n",
      "| 12|       Losartana|        Vitaminas|        211.11|       Aché|\n",
      "| 13|    Sinvastatina|        Vitaminas|         85.21|        EMS|\n",
      "| 14|   Atorvastatina|Anti-inflamatório|        195.47|Neo Química|\n",
      "| 15|      Metformina|Anti-inflamatório|          46.0|       Aché|\n",
      "| 16|    Insulina NPH|Anti-inflamatório|         175.6|     Pfizer|\n",
      "| 17|Insulina Regular|Anti-inflamatório|        299.11|        EMS|\n",
      "| 18|      Gliclazida|      Antibiótico|         74.99|        EMS|\n",
      "| 19|      Clonazepam|       Analgésico|        297.72|       Aché|\n",
      "| 20|        Diazepam|Anti-inflamatório|        185.92|       Aché|\n",
      "+---+----------------+-----------------+--------------+-----------+\n",
      "only showing top 20 rows\n"
     ]
    }
   ],
   "source": [
    "df_produtos = spark.read.csv(\"/home/wells/Documentos/Ache Farmaceutica/Dados/BRONZE/produtos.csv\", header=True, inferSchema=True)\n",
    "df_produtos.createOrReplaceTempView(\"df_produtos\")\n",
    "df_produtos.show()"
   ]
  },
  {
   "cell_type": "code",
   "execution_count": 9,
   "id": "94393f50",
   "metadata": {},
   "outputs": [
    {
     "name": "stdout",
     "output_type": "stream",
     "text": [
      "+---+--------------------+--------+-------------+\n",
      "| id|         nome_medico|     crm|especialidade|\n",
      "+---+--------------------+--------+-------------+\n",
      "|  1|       Theo da Cunha|46822/AL| Dermatologia|\n",
      "|  2|Dr. Davi Lucas Costa|17679/PB|Clínico Geral|\n",
      "|  3|    Dra. Júlia Gomes|71824/ES|Clínico Geral|\n",
      "|  4|    Fernando Azevedo|79393/MG|    Ortopedia|\n",
      "|  5|       Eduarda Moura|56849/MG|  Cardiologia|\n",
      "|  6|      Alexia Pereira|86544/BA| Dermatologia|\n",
      "|  7|         Elisa Lopes|40508/AM| Dermatologia|\n",
      "|  8|      Isaac Caldeira|30922/GO|  Cardiologia|\n",
      "|  9|     Otávio Oliveira|23124/SC|    Ortopedia|\n",
      "| 10|       Laís Carvalho|42487/SE|  Cardiologia|\n",
      "| 11|        Natália Dias|96096/DF|  Cardiologia|\n",
      "| 12|       Mirella Silva|41608/BA|    Pediatria|\n",
      "| 13|    Benjamin Pereira|44934/BA|    Pediatria|\n",
      "| 14|      Esther Cardoso|79951/SE|    Ortopedia|\n",
      "| 15|    Sra. Helena Lima|17328/MA|    Pediatria|\n",
      "| 16|        Miguel Ramos|38758/RN|Clínico Geral|\n",
      "| 17|        Sofia Vieira|85457/MT|    Pediatria|\n",
      "| 18| Ana Vitória Moreira|60911/PA|    Pediatria|\n",
      "| 19|     Evelyn Oliveira|56504/MT|    Pediatria|\n",
      "| 20|         Pedro Ramos|32768/PI| Dermatologia|\n",
      "+---+--------------------+--------+-------------+\n",
      "only showing top 20 rows\n"
     ]
    }
   ],
   "source": [
    "df_medicos = spark.read.csv(\"/home/wells/Documentos/Ache Farmaceutica/Dados/BRONZE/medicos.csv\", header=True, inferSchema=True)\n",
    "df_medicos.createOrReplaceTempView(\"df_medicos\")\n",
    "df_medicos.show()"
   ]
  },
  {
   "cell_type": "code",
   "execution_count": 10,
   "id": "9a45a6f3",
   "metadata": {},
   "outputs": [
    {
     "name": "stdout",
     "output_type": "stream",
     "text": [
      "+---+--------------------+--------------------+----------------+\n",
      "| id|    nome_laboratorio|                pais|   area_parceria|\n",
      "+---+--------------------+--------------------+----------------+\n",
      "|  1|           Fernandes|            Dhekelia|    Distribuição|\n",
      "|  2|        Moreira S.A.|Ilhas Virgens Bri...|    Distribuição|\n",
      "|  3|Viana Silveira Ltda.|               Benim|    Distribuição|\n",
      "|  4|             da Mota|    Papua-Nova Guiné|    Distribuição|\n",
      "|  5|             Costela|     Wallis e Futuna| Desenvolvimento|\n",
      "|  6|        Farias Ltda.|            Dhekelia|Pesquisa Clínica|\n",
      "|  7|      Ramos e Filhos|              Brunei| Desenvolvimento|\n",
      "|  8|            Ferreira|               Aruba|Pesquisa Clínica|\n",
      "|  9|            Caldeira|             Senegal|    Distribuição|\n",
      "| 10|Nogueira Moura e ...|           Argentina|    Distribuição|\n",
      "| 11|Castro Nascimento...|          Costa Rica|Pesquisa Clínica|\n",
      "| 12|            Nogueira|                Fiji|Pesquisa Clínica|\n",
      "| 13|    da Mota e Filhos|            Alemanha|Pesquisa Clínica|\n",
      "| 14|              Campos|            Islândia|    Distribuição|\n",
      "| 15|Ribeiro Silveira ...|                Togo| Desenvolvimento|\n",
      "| 16|            da Cunha|           Seicheles|Pesquisa Clínica|\n",
      "| 17|             Pereira|           Tailândia| Desenvolvimento|\n",
      "| 18|             Martins|Geórgia do Sul e ...|    Distribuição|\n",
      "| 19|              da Luz|              Jibuti|Pesquisa Clínica|\n",
      "| 20|Freitas da Cunha S/A|              Brasil| Desenvolvimento|\n",
      "+---+--------------------+--------------------+----------------+\n",
      "only showing top 20 rows\n"
     ]
    }
   ],
   "source": [
    "df_laboratorios = spark.read.csv(\"/home/wells/Documentos/Ache Farmaceutica/Dados/BRONZE/laboratorios_parceiros.csv\", header=True, inferSchema=True)\n",
    "df_laboratorios.createOrReplaceTempView(\"df_laboratorios\")\n",
    "df_laboratorios.show()"
   ]
  },
  {
   "cell_type": "code",
   "execution_count": 11,
   "id": "f66b54d6",
   "metadata": {},
   "outputs": [
    {
     "name": "stdout",
     "output_type": "stream",
     "text": [
      "+---+-------------+-----------+----------+------------+--------------+\n",
      "| id|nome_campanha|data_inicio|  data_fim|investimento|retorno_vendas|\n",
      "+---+-------------+-----------+----------+------------+--------------+\n",
      "|  1|   Campanha 1| 11-12-2024|13-10-2025|   203428.52|     129641.84|\n",
      "|  2|   Campanha 2| 10-05-2025|13-10-2025|    90002.05|     204128.53|\n",
      "|  3|   Campanha 3| 19-07-2025|13-10-2025|   371187.75|      96959.97|\n",
      "|  4|   Campanha 4| 18-12-2024|13-10-2025|    200964.4|     555563.49|\n",
      "|  5|   Campanha 5| 10-01-2025|13-10-2025|   195395.45|      21116.95|\n",
      "|  6|   Campanha 6| 30-05-2025|13-10-2025|   138860.33|      43765.46|\n",
      "|  7|   Campanha 7| 26-01-2025|13-10-2025|    216897.3|     551680.54|\n",
      "|  8|   Campanha 8| 20-08-2025|13-10-2025|   127385.29|     340560.41|\n",
      "|  9|   Campanha 9| 06-07-2025|13-10-2025|   384623.76|     423405.41|\n",
      "| 10|  Campanha 10| 22-05-2025|13-10-2025|   455877.66|     269408.08|\n",
      "| 11|  Campanha 11| 08-07-2025|13-10-2025|   405711.72|      76293.73|\n",
      "| 12|  Campanha 12| 27-05-2025|13-10-2025|   345473.74|     123023.44|\n",
      "| 13|  Campanha 13| 19-08-2025|13-10-2025|   149491.66|      77610.06|\n",
      "| 14|  Campanha 14| 11-07-2025|13-10-2025|   374034.18|     438771.73|\n",
      "| 15|  Campanha 15| 30-11-2024|13-10-2025|   406316.24|     652631.42|\n",
      "| 16|  Campanha 16| 13-06-2025|13-10-2025|    212322.9|     697926.58|\n",
      "| 17|  Campanha 17| 20-10-2024|13-10-2025|   428206.19|     443215.65|\n",
      "| 18|  Campanha 18| 17-04-2025|13-10-2025|    99379.52|      55945.97|\n",
      "| 19|  Campanha 19| 08-02-2025|13-10-2025|    151901.7|      456533.8|\n",
      "| 20|  Campanha 20| 02-09-2025|13-10-2025|   322077.43|     495409.78|\n",
      "+---+-------------+-----------+----------+------------+--------------+\n",
      "only showing top 20 rows\n"
     ]
    }
   ],
   "source": [
    "df_marketing = spark.read.csv(\"/home/wells/Documentos/Ache Farmaceutica/Dados/BRONZE/campanhas_marketing.csv\", header=True, inferSchema=True) \n",
    "df_marketing.createOrReplaceTempView(\"df_marketing\")\n",
    "df_marketing.show()"
   ]
  },
  {
   "cell_type": "code",
   "execution_count": 12,
   "id": "58884ee0",
   "metadata": {},
   "outputs": [
    {
     "name": "stdout",
     "output_type": "stream",
     "text": [
      "+---+---------+-----------+----------+---------------+----------+\n",
      "| id|medico_id|paciente_id|produto_id|data_prescricao|quantidade|\n",
      "+---+---------+-----------+----------+---------------+----------+\n",
      "|  1|       52|         30|        12|     27-09-2025|         3|\n",
      "|  2|       55|         25|        37|     26-11-2024|         2|\n",
      "|  3|       62|         57|        37|     17-12-2024|         2|\n",
      "|  4|       50|          1|        43|     17-07-2025|         3|\n",
      "|  5|        1|         88|        56|     03-02-2025|         1|\n",
      "|  6|        5|         91|        10|     29-03-2025|         3|\n",
      "|  7|       69|         75|        48|     30-11-2024|         1|\n",
      "|  8|       26|        141|        47|     22-02-2025|         3|\n",
      "|  9|       94|        134|        31|     25-06-2025|         3|\n",
      "| 10|       48|         96|        23|     18-01-2025|         1|\n",
      "| 11|        2|         28|         3|     07-10-2025|         1|\n",
      "| 12|      115|         12|        15|     08-10-2025|         3|\n",
      "| 13|       42|         43|        49|     11-02-2025|         2|\n",
      "| 14|       97|        127|        32|     01-09-2025|         3|\n",
      "| 15|      107|         36|        15|     12-04-2025|         3|\n",
      "| 16|       68|        105|         5|     24-09-2025|         3|\n",
      "| 17|       25|         28|        17|     10-12-2024|         2|\n",
      "| 18|        3|         66|        24|     23-07-2025|         2|\n",
      "| 19|       87|         51|        15|     01-12-2024|         2|\n",
      "| 20|        1|         49|         3|     03-10-2025|         1|\n",
      "+---+---------+-----------+----------+---------------+----------+\n",
      "only showing top 20 rows\n"
     ]
    }
   ],
   "source": [
    "df_prescricoes = spark.read.csv(\"/home/wells/Documentos/Ache Farmaceutica/Dados/BRONZE/prescricoes.csv\", header=True, inferSchema=True)\n",
    "df_prescricoes.createOrReplaceTempView(\"df_prescricoes\")\n",
    "df_prescricoes.show()"
   ]
  },
  {
   "cell_type": "markdown",
   "id": "e2c9a1be",
   "metadata": {},
   "source": [
    "resultado trimestral"
   ]
  },
  {
   "cell_type": "code",
   "execution_count": 13,
   "id": "eb025fb1",
   "metadata": {},
   "outputs": [
    {
     "name": "stdout",
     "output_type": "stream",
     "text": [
      "+---------+-------------+\n",
      "|trimestre|receita_total|\n",
      "+---------+-------------+\n",
      "|       Q1|    812150.16|\n",
      "|       Q2|    769777.00|\n",
      "|       Q3|    804249.13|\n",
      "|       Q4|    608030.44|\n",
      "+---------+-------------+\n",
      "\n"
     ]
    }
   ],
   "source": [
    "df_resultado_trimestral = spark.sql(\"\"\"\n",
    "    SELECT \n",
    "        CASE\n",
    "            WHEN MONTH(TO_DATE(data_venda, 'dd-MM-yyyy')) IN (1, 2, 3) THEN 'Q1'\n",
    "            WHEN MONTH(TO_DATE(data_venda, 'dd-MM-yyyy')) IN (4, 5, 6) THEN 'Q2'\n",
    "            WHEN MONTH(TO_DATE(data_venda, 'dd-MM-yyyy')) IN (7, 8, 9) THEN 'Q3'\n",
    "            WHEN MONTH(TO_DATE(data_venda, 'dd-MM-yyyy')) IN (10, 11, 12) THEN 'Q4'\n",
    "        END AS trimestre,\n",
    "        SUM(CAST(valor_total as decimal(10,2))) AS receita_total\n",
    "    FROM df_vendas\n",
    "    GROUP BY \n",
    "        CASE\n",
    "            WHEN MONTH(TO_DATE(data_venda, 'dd-MM-yyyy')) IN (1, 2, 3) THEN 'Q1'\n",
    "            WHEN MONTH(TO_DATE(data_venda, 'dd-MM-yyyy')) IN (4, 5, 6) THEN 'Q2'\n",
    "            WHEN MONTH(TO_DATE(data_venda, 'dd-MM-yyyy')) IN (7, 8, 9) THEN 'Q3'\n",
    "            WHEN MONTH(TO_DATE(data_venda, 'dd-MM-yyyy')) IN (10, 11, 12) THEN 'Q4'\n",
    "        END\n",
    "    ORDER BY trimestre ASC;\n",
    "\"\"\")\n",
    "\n",
    "df_resultado_trimestral.show()\n",
    "\n",
    "df_resultado_trimestral.write.csv(\"/home/wells/Documentos/Ache Farmaceutica/Dados/PRATA/resultado_trimestral.csv\", header=True, mode=\"overwrite\")\n",
    "\n"
   ]
  },
  {
   "cell_type": "markdown",
   "id": "7471e08f",
   "metadata": {},
   "source": [
    "Quantidade total de produtos vendidos por mês"
   ]
  },
  {
   "cell_type": "code",
   "execution_count": 14,
   "id": "560d07f0",
   "metadata": {},
   "outputs": [],
   "source": [
    "df_resultado_mensal = spark.sql(\"\"\"\n",
    "    SELECT\n",
    "        CASE \n",
    "            WHEN MONTH(TO_DATE(data_venda, 'dd-MM-yyyy')) = 1 THEN 'mes_1'\n",
    "            WHEN MONTH(TO_DATE(data_venda, 'dd-MM-yyyy')) = 2 THEN 'mes_2'\n",
    "            WHEN MONTH(TO_DATE(data_venda, 'dd-MM-yyyy')) = 3 THEN 'mes_3'\n",
    "            WHEN MONTH(TO_DATE(data_venda, 'dd-MM-yyyy')) = 4 THEN 'mes_4'\n",
    "            WHEN MONTH(TO_DATE(data_venda, 'dd-MM-yyyy')) = 5 THEN 'mes_5'\n",
    "            WHEN MONTH(TO_DATE(data_venda, 'dd-MM-yyyy')) = 6 THEN 'mes_6'\n",
    "            WHEN MONTH(TO_DATE(data_venda, 'dd-MM-yyyy')) = 7 THEN 'mes_7'\n",
    "            WHEN MONTH(TO_DATE(data_venda, 'dd-MM-yyyy')) = 8 THEN 'mes_8'\n",
    "            WHEN MONTH(TO_DATE(data_venda, 'dd-MM-yyyy')) = 9 THEN 'mes_9'\n",
    "            WHEN MONTH(TO_DATE(data_venda, 'dd-MM-yyyy')) = 10 THEN 'mes_10'\n",
    "            WHEN MONTH(TO_DATE(data_venda, 'dd-MM-yyyy')) = 11 THEN 'mes_11'\n",
    "            WHEN MONTH(TO_DATE(data_venda, 'dd-MM-yyyy')) = 12 THEN 'mes_12'\n",
    "        END AS mes,\n",
    "        SUM(CAST(valor_total AS DECIMAL(10,2))) AS receita_total\n",
    "    FROM df_vendas\n",
    "    GROUP BY \n",
    "        CASE \n",
    "            WHEN MONTH(TO_DATE(data_venda, 'dd-MM-yyyy')) = 1 THEN 'mes_1'\n",
    "            WHEN MONTH(TO_DATE(data_venda, 'dd-MM-yyyy')) = 2 THEN 'mes_2'\n",
    "            WHEN MONTH(TO_DATE(data_venda, 'dd-MM-yyyy')) = 3 THEN 'mes_3'\n",
    "            WHEN MONTH(TO_DATE(data_venda, 'dd-MM-yyyy')) = 4 THEN 'mes_4'\n",
    "            WHEN MONTH(TO_DATE(data_venda, 'dd-MM-yyyy')) = 5 THEN 'mes_5'\n",
    "            WHEN MONTH(TO_DATE(data_venda, 'dd-MM-yyyy')) = 6 THEN 'mes_6'\n",
    "            WHEN MONTH(TO_DATE(data_venda, 'dd-MM-yyyy')) = 7 THEN 'mes_7'\n",
    "            WHEN MONTH(TO_DATE(data_venda, 'dd-MM-yyyy')) = 8 THEN 'mes_8'\n",
    "            WHEN MONTH(TO_DATE(data_venda, 'dd-MM-yyyy')) = 9 THEN 'mes_9'\n",
    "            WHEN MONTH(TO_DATE(data_venda, 'dd-MM-yyyy')) = 10 THEN 'mes_10'\n",
    "            WHEN MONTH(TO_DATE(data_venda, 'dd-MM-yyyy')) = 11 THEN 'mes_11'\n",
    "            WHEN MONTH(TO_DATE(data_venda, 'dd-MM-yyyy')) = 12 THEN 'mes_12'\n",
    "        END\n",
    "    ORDER BY mes ASC\n",
    "\"\"\")\n",
    "\n",
    "df_resultado_mensal.write.csv(\"/home/wells/Documentos/Ache Farmaceutica/Dados/PRATA/resultado_mensal.csv\", header=True, mode=\"overwrite\")\n"
   ]
  },
  {
   "cell_type": "markdown",
   "id": "ca4cd992",
   "metadata": {},
   "source": [
    "Top 5 produtos mais vendidos"
   ]
  },
  {
   "cell_type": "code",
   "execution_count": 15,
   "id": "ae53fa8e",
   "metadata": {},
   "outputs": [],
   "source": [
    "df_resultados_produtos = spark.sql(\"\"\"\n",
    "    SELECT\n",
    "        p.id as id_produto,\n",
    "        p.nome_produto,\n",
    "        SUM(v.quantidade) AS total_vendido,\n",
    "        CASE \n",
    "            WHEN MONTH(TO_DATE(v.data_venda, 'dd-MM-yyyy')) = 1 THEN 'mes_1'\n",
    "            WHEN MONTH(TO_DATE(v.data_venda, 'dd-MM-yyyy')) = 2 THEN 'mes_2'\n",
    "            WHEN MONTH(TO_DATE(v.data_venda, 'dd-MM-yyyy')) = 3 THEN 'mes_3'\n",
    "            WHEN MONTH(TO_DATE(v.data_venda, 'dd-MM-yyyy')) = 4 THEN 'mes_4'\n",
    "            WHEN MONTH(TO_DATE(v.data_venda, 'dd-MM-yyyy')) = 5 THEN 'mes_5'\n",
    "            WHEN MONTH(TO_DATE(v.data_venda, 'dd-MM-yyyy')) = 6 THEN 'mes_6'\n",
    "            WHEN MONTH(TO_DATE(v.data_venda, 'dd-MM-yyyy')) = 7 THEN 'mes_7'\n",
    "            WHEN MONTH(TO_DATE(v.data_venda, 'dd-MM-yyyy')) = 8 THEN 'mes_8'\n",
    "            WHEN MONTH(TO_DATE(v.data_venda, 'dd-MM-yyyy')) = 9 THEN 'mes_9'\n",
    "            WHEN MONTH(TO_DATE(v.data_venda, 'dd-MM-yyyy')) = 10 THEN 'mes_10'\n",
    "            WHEN MONTH(TO_DATE(v.data_venda, 'dd-MM-yyyy')) = 11 THEN 'mes_11'\n",
    "            WHEN MONTH(TO_DATE(v.data_venda, 'dd-MM-yyyy')) = 12 THEN 'mes_12'\n",
    "        END AS mes\n",
    "    FROM df_vendas v\n",
    "    JOIN df_produtos p\n",
    "        ON v.id = p.id\n",
    "    GROUP BY\n",
    "        p.id,\n",
    "        p.nome_produto,\n",
    "        CASE \n",
    "            WHEN MONTH(TO_DATE(v.data_venda, 'dd-MM-yyyy')) = 1 THEN 'mes_1'\n",
    "            WHEN MONTH(TO_DATE(v.data_venda, 'dd-MM-yyyy')) = 2 THEN 'mes_2'\n",
    "            WHEN MONTH(TO_DATE(v.data_venda, 'dd-MM-yyyy')) = 3 THEN 'mes_3'\n",
    "            WHEN MONTH(TO_DATE(v.data_venda, 'dd-MM-yyyy')) = 4 THEN 'mes_4'\n",
    "            WHEN MONTH(TO_DATE(v.data_venda, 'dd-MM-yyyy')) = 5 THEN 'mes_5'\n",
    "            WHEN MONTH(TO_DATE(v.data_venda, 'dd-MM-yyyy')) = 6 THEN 'mes_6'\n",
    "            WHEN MONTH(TO_DATE(v.data_venda, 'dd-MM-yyyy')) = 7 THEN 'mes_7'\n",
    "            WHEN MONTH(TO_DATE(v.data_venda, 'dd-MM-yyyy')) = 8 THEN 'mes_8'\n",
    "            WHEN MONTH(TO_DATE(v.data_venda, 'dd-MM-yyyy')) = 9 THEN 'mes_9'\n",
    "            WHEN MONTH(TO_DATE(v.data_venda, 'dd-MM-yyyy')) = 10 THEN 'mes_10'\n",
    "            WHEN MONTH(TO_DATE(v.data_venda, 'dd-MM-yyyy')) = 11 THEN 'mes_11'\n",
    "            WHEN MONTH(TO_DATE(v.data_venda, 'dd-MM-yyyy')) = 12 THEN 'mes_12'\n",
    "        END\n",
    "    ORDER BY mes ASC;\n",
    "    \n",
    "\"\"\")\n",
    "df_resultados_produtos.write.csv(\"/home/wells/Documentos/Ache Farmaceutica/Dados/PRATA/resultado_mensal_produto.csv\", header=True, mode=\"overwrite\")\n"
   ]
  },
  {
   "cell_type": "code",
   "execution_count": 16,
   "id": "8f51d0c6",
   "metadata": {},
   "outputs": [],
   "source": [
    "df_top5_produtos = spark.sql(\"\"\" \n",
    "    SELECT\n",
    "        p.id as id_produto,\n",
    "        p.nome_produto,\n",
    "        Sum(v.quantidade) as total_vendido\n",
    "        \n",
    "    FROM df_produtos p\n",
    "    JOIN df_vendas v \n",
    "        ON p.id = v.id\n",
    "    GROUP BY \n",
    "        p.id, p.nome_produto\n",
    "    ORDER BY \n",
    "        total_vendido DESC\n",
    "      limit 5\n",
    "          \n",
    "          \"\"\")"
   ]
  },
  {
   "cell_type": "code",
   "execution_count": 17,
   "id": "999c16e2",
   "metadata": {},
   "outputs": [
    {
     "name": "stdout",
     "output_type": "stream",
     "text": [
      "+----------+------------+-------------+\n",
      "|id_produto|nome_produto|total_vendido|\n",
      "+----------+------------+-------------+\n",
      "|        48|  Melatonina|           50|\n",
      "|        36|     Clexane|           48|\n",
      "|        23|Escitalopram|           47|\n",
      "|        15|  Metformina|           46|\n",
      "|        18|  Gliclazida|           45|\n",
      "+----------+------------+-------------+\n",
      "\n"
     ]
    }
   ],
   "source": [
    "df_top5_produtos.show()"
   ]
  },
  {
   "cell_type": "markdown",
   "id": "602deff9",
   "metadata": {},
   "source": [
    "top 5 clientes com maior volume de compras"
   ]
  },
  {
   "cell_type": "code",
   "execution_count": 18,
   "id": "2fe96062",
   "metadata": {},
   "outputs": [],
   "source": [
    "df_top_clientes = spark.sql(\"\"\"\n",
    "    SELECT \n",
    "        c.id AS id_cliente,\n",
    "        c.nome_cliente,\n",
    "        count(v.quantidade) AS total_compras\n",
    "    FROM df_clientes c\n",
    "    JOIN df_vendas v\n",
    "        ON c.id = v.cliente_id\n",
    "    GROUP BY c.id, c.nome_cliente\n",
    "    ORDER BY total_compras DESC\n",
    "\"\"\")\n",
    "df_top_clientes.write.csv(\"/home/wells/Documentos/Ache Farmaceutica/Dados/PRATA/top5_clientes.csv\", header=True, mode=\"overwrite\") "
   ]
  },
  {
   "cell_type": "markdown",
   "id": "c3cc6499",
   "metadata": {},
   "source": [
    "Faturamento total por representante\n"
   ]
  },
  {
   "cell_type": "code",
   "execution_count": 19,
   "id": "a138997a",
   "metadata": {},
   "outputs": [
    {
     "name": "stdout",
     "output_type": "stream",
     "text": [
      "+----------------+------------------+-------------+\n",
      "|id_representante|nome_representante|receita_total|\n",
      "+----------------+------------------+-------------+\n",
      "|              29|      Sophia Porto|    125876.64|\n",
      "|               6|    Eduardo Fogaça|    117905.33|\n",
      "|              24|    Luana Monteiro|    111515.99|\n",
      "|              39|João Vitor Azevedo|    106359.41|\n",
      "|              33|       Breno Moura|    105250.00|\n",
      "+----------------+------------------+-------------+\n",
      "\n"
     ]
    }
   ],
   "source": [
    "spark.sql(\"\"\" \n",
    "               SELECT \n",
    "                     r.id AS id_representante,\n",
    "                     r.nome_representante,\n",
    "                     SUM(cast(v.valor_total AS DECIMAL(10,2))) AS receita_total\n",
    "                FROM df_representantes r\n",
    "                JOIN df_vendas v\n",
    "                    ON r.id = v.representante_id\n",
    "               GROUP BY r.id, r.nome_representante\n",
    "               ORDER BY receita_total DESC\n",
    "               LIMIT 5\n",
    "           \"\"\").show()"
   ]
  },
  {
   "cell_type": "code",
   "execution_count": 20,
   "id": "28521e22",
   "metadata": {},
   "outputs": [],
   "source": [
    "df_top5_representantes = spark.sql(\"\"\" \n",
    "               SELECT \n",
    "                     r.id AS id_representante,\n",
    "                     r.nome_representante,\n",
    "                     SUM(cast(v.valor_total AS DECIMAL(10,2))) AS receita_total\n",
    "                FROM df_representantes r\n",
    "                JOIN df_vendas v\n",
    "                    ON r.id = v.representante_id\n",
    "               GROUP BY r.id, r.nome_representante\n",
    "               ORDER BY receita_total DESC\n",
    "               LIMIT 5\n",
    "           \"\"\")\n",
    "df_top5_representantes.write.csv(\"/home/wells/Documentos/Ache Farmaceutica/Dados/PRATA/top5_representantes.csv\", header=True, mode=\"overwrite\")"
   ]
  },
  {
   "cell_type": "markdown",
   "id": "391fad32",
   "metadata": {},
   "source": [
    "Percentual de atingimento da meta"
   ]
  },
  {
   "cell_type": "code",
   "execution_count": 21,
   "id": "3545b0cb",
   "metadata": {},
   "outputs": [],
   "source": [
    "df_metas_atingidas =spark.sql(\"\"\" \n",
    "                    SELECT\n",
    "                        r.id AS id_representante,\n",
    "                        r.nome_representante,\n",
    "                        r.meta_mensal,\n",
    "                        MONTH(TO_DATE(v.data_venda, 'dd-mm-yyyy')) AS mes,\n",
    "                        SUM(CAST(v.valor_total AS DECIMAL(10,2))) AS receita_total,\n",
    "                    CASE \n",
    "                        WHEN SUM(CAST(v.valor_total AS DECIMAL(10,2))) >= r.meta_mensal THEN 'Atingiu'\n",
    "                            ELSE 'Não Atingiu'\n",
    "                        END status_atingimento\n",
    "                    FROM \n",
    "                        df_representantes r\n",
    "                    JOIN\n",
    "                        df_vendas v\n",
    "                    ON \n",
    "                        r.id = v.representante_id\n",
    "                    GROUP BY \n",
    "                        r.id, r.nome_representante, r.meta_mensal, MONTH(TO_DATE(v.data_venda, 'dd-mm-yyyy'))\n",
    "\"\"\")\n",
    "df_metas_atingidas.write.csv(\"/home/wells/Documentos/Ache Farmaceutica/Dados/PRATA/metas_atingidas.csv\", header=True, mode=\"overwrite\")"
   ]
  },
  {
   "cell_type": "markdown",
   "id": "f6fb2752",
   "metadata": {},
   "source": [
    "Melhores representantes"
   ]
  },
  {
   "cell_type": "code",
   "execution_count": 22,
   "id": "dae71b05",
   "metadata": {},
   "outputs": [
    {
     "name": "stdout",
     "output_type": "stream",
     "text": [
      "+----------------+------------------+-----------+---+-------------+------------------+\n",
      "|id_representante|nome_representante|meta_mensal|mes|receita_total|status_atingimento|\n",
      "+----------------+------------------+-----------+---+-------------+------------------+\n",
      "|               6|    Eduardo Fogaça|   73662.02|  1|    117905.33|           Atingiu|\n",
      "|              24|    Luana Monteiro|    80539.6|  1|    111515.99|           Atingiu|\n",
      "|              33|       Breno Moura|   50531.85|  1|    105250.00|           Atingiu|\n",
      "|              19|    Lorenzo Fogaça|    66055.4|  1|     87610.52|           Atingiu|\n",
      "|              12|    Brenda Cardoso|   51173.47|  1|     78803.02|           Atingiu|\n",
      "|              40|       Yago Barros|   51450.45|  1|     73338.48|           Atingiu|\n",
      "+----------------+------------------+-----------+---+-------------+------------------+\n",
      "\n"
     ]
    }
   ],
   "source": [
    "spark.sql(\"\"\" \n",
    "SELECT\n",
    "    r.id AS id_representante,\n",
    "    r.nome_representante,\n",
    "    r.meta_mensal,\n",
    "    MONTH(TO_DATE(v.data_venda, 'dd-mm-yyyy')) AS mes,\n",
    "    SUM(CAST(v.valor_total AS DECIMAL(10,2))) AS receita_total,\n",
    "CASE\n",
    "    WHEN SUM(CAST(v.valor_total AS DECIMAL(10,2))) >= r.meta_mensal THEN 'Atingiu'\n",
    "        ELSE 'Não Atingiu'\n",
    "    END status_atingimento\n",
    "FROM\n",
    "    df_representantes r\n",
    "JOIN\n",
    "    df_vendas v\n",
    "ON\n",
    "    r.id = v.representante_id\n",
    "GROUP BY\n",
    "    r.id, r.nome_representante, r.meta_mensal, MONTH(TO_DATE(v.data_venda, 'dd-mm-yyyy'))\n",
    "HAVING\n",
    "    SUM(CAST(v.valor_total AS DECIMAL(10,2))) >= r.meta_mensal -- MUDANÇA AQUI: de WHERE para HAVING\n",
    "ORDER BY\n",
    "    receita_total DESC\n",
    "\"\"\").show()"
   ]
  },
  {
   "cell_type": "markdown",
   "id": "4dc0a99a",
   "metadata": {},
   "source": [
    "Média de vendas mensais por produto\n"
   ]
  },
  {
   "cell_type": "code",
   "execution_count": 23,
   "id": "6e7d727c",
   "metadata": {},
   "outputs": [
    {
     "name": "stdout",
     "output_type": "stream",
     "text": [
      "+----------+-----------------+--------------------+\n",
      "|id_produto|     nome_produto|media_vendas_mensais|\n",
      "+----------+-----------------+--------------------+\n",
      "|        49|       Cetirizina|                42.0|\n",
      "|        31|            Engov|                43.0|\n",
      "|        29|         Buscopan|                 4.0|\n",
      "|         2|      Paracetamol|                39.0|\n",
      "|         3|       Ibuprofeno|                12.0|\n",
      "|        58|Buscopan Composto|                29.0|\n",
      "|        40|       Nimesulida|                10.0|\n",
      "|        53|       Cefalexina|                37.0|\n",
      "|        22|       Fluoxetina|                 3.0|\n",
      "|        34|          Eliquis|                24.0|\n",
      "|        54|      Ceftriaxona|                 3.0|\n",
      "|        59|       Ranitidina|                24.0|\n",
      "|         7|        Omeprazol|                 7.0|\n",
      "|        26|         Torsilax|                28.0|\n",
      "|        30|           Dramin|                 5.0|\n",
      "|        55|     Dexametasona|                39.0|\n",
      "|        17| Insulina Regular|                11.0|\n",
      "|        27|          Dorflex|                18.0|\n",
      "|        39|         Aspirina|                 2.0|\n",
      "|        24|       Bupropiona|                23.0|\n",
      "+----------+-----------------+--------------------+\n",
      "only showing top 20 rows\n"
     ]
    }
   ],
   "source": [
    "spark.sql(\"\"\"\n",
    "         SELECT\n",
    "                p.id AS id_produto,\n",
    "                p.nome_produto,\n",
    "                AVG(v.quantidade) AS media_vendas_mensais\n",
    "        FROM\n",
    "                df_produtos p\n",
    "        JOIN\n",
    "                df_vendas v\n",
    "            ON p.id = v.id  -- Corrected this based on common schema design\n",
    "        GROUP BY\n",
    "                p.id, p.nome_produto\n",
    "         \"\"\").show()"
   ]
  },
  {
   "cell_type": "markdown",
   "id": "e5ce80d7",
   "metadata": {},
   "source": [
    "Compare o faturamento de produtos antes e depois das campanhas.\n",
    "Avalie se o investimento trouxe retorno (ROI positivo)."
   ]
  },
  {
   "cell_type": "code",
   "execution_count": 32,
   "id": "eed7ac04",
   "metadata": {},
   "outputs": [
    {
     "name": "stdout",
     "output_type": "stream",
     "text": [
      "+----------+-----------------+-----------+-------------+-----------+----------+------------+-------------+--------------+--------------------+\n",
      "|id_produto|     nome_produto|id_campanha|nome_campanha|data_inicio|  data_fim|investimento|receita_antes|receita_depois|                 ROI|\n",
      "+----------+-----------------+-----------+-------------+-----------+----------+------------+-------------+--------------+--------------------+\n",
      "|        45|         Atenolol|         45|  Campanha 45| 10-12-2024|13-10-2025|    37458.79|          0.0|       8744.04| 0.23343092502454033|\n",
      "|        59|       Ranitidina|         59|  Campanha 59| 21-10-2024|13-10-2025|    26420.04|          0.0|       2133.47|  0.0807519594974118|\n",
      "|        35|        Apixabana|         35|  Campanha 35| 05-08-2025|13-10-2025|   251853.98|          0.0|       7502.57| 0.02978936445634093|\n",
      "|        57|       Polaramine|         57|  Campanha 57| 17-01-2025|13-10-2025|   227050.86|          0.0|       5251.38|0.023128650558733848|\n",
      "|        52|Hidroclorotiazida|         52|  Campanha 52| 30-05-2025|13-10-2025|    415843.5|          0.0|       5521.73|0.013278384776965371|\n",
      "|        42|        Captopril|         42|  Campanha 42| 20-12-2024|13-10-2025|   171821.84|          0.0|       2262.28|0.013166428668206557|\n",
      "|        55|     Dexametasona|         55|  Campanha 55| 27-01-2025|13-10-2025|   131991.56|          0.0|       1583.54|0.011997282250471166|\n",
      "|        27|          Dorflex|         27|  Campanha 27| 02-03-2025|13-10-2025|   272135.67|          0.0|       3178.68|0.011680497451877587|\n",
      "|        39|         Aspirina|         39|  Campanha 39| 09-02-2025|13-10-2025|   499002.09|          0.0|        4761.2|0.009541443002773795|\n",
      "|        15|       Metformina|         15|  Campanha 15| 30-11-2024|13-10-2025|   406316.24|          0.0|       3089.26|0.007603092605897318|\n",
      "|        32|         Benegrip|         32|  Campanha 32| 30-03-2025|13-10-2025|   366282.46|          0.0|       2269.37|0.006195682971005...|\n",
      "|        10|       Prednisona|         10|  Campanha 10| 22-05-2025|13-10-2025|   455877.66|          0.0|       2555.67|0.005606043516148609|\n",
      "|         5|     Azitromicina|          5|   Campanha 5| 10-01-2025|13-10-2025|   195395.45|          0.0|         958.7|0.004906460206724363|\n",
      "|        21|       Sertralina|         21|  Campanha 21| 26-12-2024|13-10-2025|   312687.41|          0.0|       1270.43| 0.00406293940648266|\n",
      "|        17| Insulina Regular|         17|  Campanha 17| 20-10-2024|13-10-2025|   428206.19|          0.0|        213.21| 4.97914334213618E-4|\n",
      "+----------+-----------------+-----------+-------------+-----------+----------+------------+-------------+--------------+--------------------+\n",
      "\n"
     ]
    }
   ],
   "source": [
    "\n",
    "# testando novo script\n",
    "\n",
    "spark.sql(\"\"\"\n",
    "    SELECT\n",
    "        p.id AS id_produto,\n",
    "        p.nome_produto,\n",
    "        m.id AS id_campanha,\n",
    "        m.nome_campanha,\n",
    "        m.data_inicio,\n",
    "        m.data_fim,\n",
    "        m.investimento,  \n",
    "                                                                                                 /* Calcula a receita antes e depois da campanha */                                                                                                 \n",
    "    \n",
    "    SUM(CASE \n",
    "        WHEN TO_DATE(v.data_venda, 'dd-MM-yyyy') < TO_DATE(m.data_inicio, 'dd-MM-yyyy') \n",
    "            THEN v.valor_total ELSE 0 END) AS receita_antes,\n",
    "    \n",
    "    SUM(CASE \n",
    "            WHEN TO_DATE(v.data_venda, 'dd-MM-yyyy') >= TO_DATE(m.data_inicio, 'dd-MM-yyyy') \n",
    "    \n",
    "    AND\n",
    "    \n",
    "        TO_DATE(v.data_venda, 'dd-MM-yyyy') <= TO_DATE(m.data_fim, 'dd-MM-yyyy') \n",
    "            THEN v.valor_total ELSE 0 END) AS receita_depois,\n",
    "    \n",
    "                                                                                                          /* Calcula o ROI */\n",
    "    \n",
    "    CASE\n",
    "        WHEN m.investimento > 0 \n",
    "            THEN\n",
    "                (SUM(CASE WHEN TO_DATE(v.data_venda, 'dd-MM-yyyy') >= TO_DATE(m.data_inicio, 'dd-MM-yyyy') \n",
    "    AND \n",
    "        TO_DATE(v.data_venda, 'dd-MM-yyyy') <= TO_DATE(m.data_fim, 'dd-MM-yyyy') \n",
    "            THEN v.valor_total ELSE 0 END) - SUM(CASE WHEN TO_DATE(v.data_venda, 'dd-MM-yyyy') < TO_DATE(m.data_inicio, 'dd-MM-yyyy') \n",
    "                THEN v.valor_total ELSE 0 END)) / m.investimento\n",
    "            ELSE NULL\n",
    "        END AS ROI\n",
    "        \n",
    "        \n",
    "FROM \n",
    "        df_vendas v\n",
    "JOIN\n",
    "        df_produtos p ON v.id = p.id\n",
    "JOIN\n",
    "        df_marketing m ON p.id = m.id\n",
    "    GROUP BY \n",
    "        p.id, p.nome_produto, m.id, m.nome_campanha, m.data_inicio, m.data_fim, m.investimento\n",
    "    HAVING \n",
    "        ROI > 0\n",
    "    ORDER BY ROI DESC\n",
    "\"\"\").show()"
   ]
  },
  {
   "cell_type": "markdown",
   "id": "ccbc44fd",
   "metadata": {},
   "source": [
    "\n",
    "Quais especialidades médicas mais prescrevem medicamentos.\n"
   ]
  },
  {
   "cell_type": "code",
   "execution_count": 27,
   "id": "78697591",
   "metadata": {},
   "outputs": [
    {
     "name": "stdout",
     "output_type": "stream",
     "text": [
      "+-------------+-----------------+\n",
      "|especialidade|total_prescricoes|\n",
      "+-------------+-----------------+\n",
      "|    Pediatria|               99|\n",
      "|  Cardiologia|               80|\n",
      "| Dermatologia|               68|\n",
      "|    Ortopedia|               62|\n",
      "|Clínico Geral|               57|\n",
      "|  Ginecologia|               34|\n",
      "+-------------+-----------------+\n",
      "\n"
     ]
    }
   ],
   "source": [
    "spark.sql(\"\"\" \n",
    "            SELECT \n",
    "                    m.especialidade,\n",
    "                    COUNT(p.quantidade) AS total_prescricoes\n",
    "          FROM \n",
    "            df_medicos m\n",
    "          JOIN\n",
    "            df_prescricoes p\n",
    "              ON m.id = p.medico_id\n",
    "          GROUP BY \n",
    "            m.especialidade\n",
    "          ORDER BY total_prescricoes DESC\n",
    "          \n",
    "          \"\"\").show()"
   ]
  },
  {
   "cell_type": "markdown",
   "id": "752569a6",
   "metadata": {},
   "source": [
    "Médicos com maior número de prescrições."
   ]
  },
  {
   "cell_type": "code",
   "execution_count": 17,
   "id": "6ac8dcb8",
   "metadata": {},
   "outputs": [
    {
     "name": "stdout",
     "output_type": "stream",
     "text": [
      "+---------+--------------------+-------------+-----------------+\n",
      "|id_medico|         nome_medico|especialidade|total_prescricoes|\n",
      "+---------+--------------------+-------------+-----------------+\n",
      "|       94|     Emanuel Costela|  Cardiologia|                8|\n",
      "|       85|Maria Vitória Mar...|    Pediatria|                7|\n",
      "|       15|    Sra. Helena Lima|    Pediatria|                7|\n",
      "|       80|           Ian Souza|    Pediatria|                7|\n",
      "|        7|         Elisa Lopes| Dermatologia|                7|\n",
      "|       89| Sra. Helena Cardoso|    Ortopedia|                6|\n",
      "|       14|      Esther Cardoso|    Ortopedia|                6|\n",
      "|       64|     Sra. Luiza Dias|    Pediatria|                6|\n",
      "|        2|Dr. Davi Lucas Costa|Clínico Geral|                6|\n",
      "|       52| Sra. Sarah Carvalho|  Cardiologia|                6|\n",
      "|       59|  Larissa Cavalcanti|  Cardiologia|                6|\n",
      "|       22|    Danilo Gonçalves|    Pediatria|                6|\n",
      "|       84|      Leonardo Rocha|  Cardiologia|                6|\n",
      "|       62|        Danilo Moura|Clínico Geral|                6|\n",
      "|       44|         Luna da Luz|  Cardiologia|                5|\n",
      "|       87|Sra. Gabriela Fer...| Dermatologia|                5|\n",
      "|      109|        Marina Nunes|    Ortopedia|                5|\n",
      "|      114|         Alice Jesus|    Pediatria|                5|\n",
      "|       54|       Agatha Castro|    Ortopedia|                5|\n",
      "|       57|        Elisa Aragão|    Pediatria|                5|\n",
      "+---------+--------------------+-------------+-----------------+\n",
      "only showing top 20 rows\n"
     ]
    }
   ],
   "source": [
    "spark.sql(\"\"\" \n",
    "            SELECT \n",
    "                    m.id as id_medico,\n",
    "                    m.nome_medico,\n",
    "                    m.especialidade,\n",
    "                    COUNT(p.quantidade) AS total_prescricoes\n",
    "          FROM \n",
    "            df_medicos m\n",
    "          JOIN\n",
    "            df_prescricoes p\n",
    "              ON m.id = p.medico_id\n",
    "          GROUP BY \n",
    "            m.id, m.nome_medico, m.especialidade\n",
    "          ORDER BY total_prescricoes DESC\n",
    "          \n",
    "          \"\"\").show()"
   ]
  },
  {
   "cell_type": "markdown",
   "id": "efa537ce",
   "metadata": {},
   "source": [
    "\n",
    "Quais produtos são mais prescritos por especialidade.\n"
   ]
  },
  {
   "cell_type": "code",
   "execution_count": null,
   "id": "34100999",
   "metadata": {},
   "outputs": [
    {
     "name": "stdout",
     "output_type": "stream",
     "text": [
      "+----------------+-------------+-----------------+\n",
      "|    nome_produto|especialidade|total_prescricoes|\n",
      "+----------------+-------------+-----------------+\n",
      "|           Engov|  Cardiologia|                6|\n",
      "|Insulina Regular|    Pediatria|                6|\n",
      "|      Ibuprofeno|    Pediatria|                5|\n",
      "|         Tylenol|    Ortopedia|                5|\n",
      "|         Allegra| Dermatologia|                5|\n",
      "|         Eliquis| Dermatologia|                4|\n",
      "|      Furosemida|  Cardiologia|                4|\n",
      "|         Eliquis|    Pediatria|                4|\n",
      "|        Aspirina|    Pediatria|                4|\n",
      "|        Rivotril|    Pediatria|                4|\n",
      "|Insulina Regular|  Cardiologia|                4|\n",
      "|      Metformina| Dermatologia|                4|\n",
      "|      Simeticona| Dermatologia|                4|\n",
      "|      Simeticona|    Ortopedia|                4|\n",
      "|    Sinvastatina|    Pediatria|                3|\n",
      "|     Cetoprofeno|    Pediatria|                3|\n",
      "|      Furosemida|Clínico Geral|                3|\n",
      "|         Clexane|    Pediatria|                3|\n",
      "| Dipirona Sódica|  Ginecologia|                3|\n",
      "|      Cefalexina|    Pediatria|                3|\n",
      "+----------------+-------------+-----------------+\n",
      "only showing top 20 rows\n"
     ]
    }
   ],
   "source": [
    "spark.sql(\"\"\" \n",
    "            SELECT \n",
    "                pd.nome_produto,\n",
    "                m.especialidade,\n",
    "                COUNT(p.quantidade) AS total_prescricoes\n",
    "            FROM\n",
    "                df_prescricoes p\n",
    "            JOIN\n",
    "                df_medicos m ON p.medico_id = m.id\n",
    "            JOIN\n",
    "                df_produtos pd ON p.produto_id = pd.id\n",
    "            GROUP BY\n",
    "                pd.nome_produto,\n",
    "                m.especialidade\n",
    "                \n",
    "            ORDER BY total_prescricoes DESC\n",
    "          \"\"\").show()\n",
    "# teste"
   ]
  }
 ],
 "metadata": {
  "kernelspec": {
   "display_name": "Python 3",
   "language": "python",
   "name": "python3"
  },
  "language_info": {
   "codemirror_mode": {
    "name": "ipython",
    "version": 3
   },
   "file_extension": ".py",
   "mimetype": "text/x-python",
   "name": "python",
   "nbconvert_exporter": "python",
   "pygments_lexer": "ipython3",
   "version": "3.10.12"
  }
 },
 "nbformat": 4,
 "nbformat_minor": 5
}
